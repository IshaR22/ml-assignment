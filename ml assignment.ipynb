{
 "cells": [
  {
   "cell_type": "code",
   "execution_count": null,
   "id": "660aeb17-a100-44c8-9ada-4530074f8ea2",
   "metadata": {},
   "outputs": [],
   "source": [
    "Q8- List down somK commonly usKd supKrvisKd lKarnin* al*orithms and unsupKrvisKd lKarnin*\n",
    "al*orithms."
   ]
  },
  {
   "cell_type": "code",
   "execution_count": null,
   "id": "1dca812a-8fa4-4665-8a88-3e79b74f32d0",
   "metadata": {},
   "outputs": [],
   "source": [
    "Q1- E=plain thK following with an example\n",
    "1) Artificial Intillegence\n",
    "2) Machine leraning\n",
    "3) Deep learning"
   ]
  },
  {
   "cell_type": "code",
   "execution_count": null,
   "id": "57354d99-50f7-4b11-9ad5-a9b708bcd380",
   "metadata": {},
   "outputs": [],
   "source": [
    "artificial intelligence \n",
    "it is a branch of computer science that aims to build machines capable of performing tasks that typically require \n",
    "human intelligence. it is capable of performing tasks traditionally associated with human intelligence — such\n",
    "as making predictions, identifying objects, interpreting speech and generating natural language.\n",
    "\n",
    "machine learning\n",
    "Machine learning (ML) is a field of study in artificial intelligence concerned with the development and study of \n",
    "statistical algorithms that can learn from data and generalize to unseen data and thus perform tasks without explicit \n",
    "instructions. \n",
    "it is a sub set of artificial intelligence\n",
    "\n",
    "Deep learning\n",
    "Deep learning is the subset of machine learning methods based on neural networks with representation learning.\n",
    "The word \"deep\" refers to the use of multiple layers in the network. Methods used can be either supervised, \n",
    "semi-supervised or unsupervised."
   ]
  },
  {
   "cell_type": "code",
   "execution_count": null,
   "id": "3a7a039b-9447-48a6-a6a7-d164f9c42575",
   "metadata": {},
   "outputs": [],
   "source": [
    "Q2- What is supervise learning? List somK example  of supervise learning."
   ]
  },
  {
   "cell_type": "code",
   "execution_count": null,
   "id": "f8309b2f-2d5c-441d-9bc6-cdf03719cf93",
   "metadata": {},
   "outputs": [],
   "source": [
    "It is defined by its use of labeled data sets to train algorithms that to classify data or predict outcomes accurately.\n",
    "Supervised learning (SL) is a paradigm in machine learning where input objects and a desired output value train a model. \n",
    "Supervised learning helps organizations solve for a variety of real-world problems at scale, such as classifying spam\n",
    "in a separate folder from your inbox. It can be used to build highly accurate machine learning models.\n",
    "Spam Detection:\n",
    "    An algorithm is trained on a dataset of labeled emails (spam/not spam) to identify and filter out spam messages\n",
    "    from an inbox.\n"
   ]
  },
  {
   "cell_type": "code",
   "execution_count": null,
   "id": "0c019d44-04d2-47f7-b73a-ef1e458e2e51",
   "metadata": {},
   "outputs": [],
   "source": [
    "Q3- What is unsupervise learning? List somK example  of unsupervise learning."
   ]
  },
  {
   "cell_type": "code",
   "execution_count": null,
   "id": "dd6ac829-fa91-4342-b594-353c74f833a0",
   "metadata": {},
   "outputs": [],
   "source": [
    "unsupervised learning uses unlabeled data. From that data, it discovers patterns that help solve for clustering or \n",
    "association problems. This is particularly useful when subject matter experts are unsure of common properties \n",
    "within a data set\n",
    "\n",
    "Clustering:\n",
    "    K-Means algorithms group similar data points together based on their characteristics, enabling the discovery of\n",
    "    hidden patterns and structures in the data.\n"
   ]
  },
  {
   "cell_type": "code",
   "execution_count": null,
   "id": "078ba35a-6d3d-4bb8-bd5d-93620df3dda0",
   "metadata": {},
   "outputs": [],
   "source": [
    "Q4- What is thK difference between AI, ML, DL, and DS?"
   ]
  },
  {
   "cell_type": "code",
   "execution_count": null,
   "id": "7d59675b-395e-49a8-bdd0-1ccbe4a71f4a",
   "metadata": {},
   "outputs": [],
   "source": [
    "Artificial Intelligence (AI):\n",
    "Broadly refers to the capability of machines to perform tasks that typically require human intelligence,\n",
    "such as learning, problem-solving, and decision-making. \n",
    "\n",
    "Machine Learning (ML):\n",
    "A subset of AI that enables machines to learn from data without being explicitly programmed.\n",
    "Involves training algorithms on data to make predictions or take actions, such as classification, regression,\n",
    "clustering, and more. \n",
    "\n",
    "Deep Learning (DL):\n",
    "A subset of ML that focuses on neural networks with multiple layers, inspired by the structure and function of the \n",
    "human brain.Enables machines to learn hierarchical representations of data, leading to state-of-the-art performance \n",
    "in tasks like image recognition, natural language processing, and speech recognition. \n",
    "\n",
    "Data Science (DS):\n",
    "An interdisciplinary field that combines statistics, computer science, and domain expertise to extract insights and \n",
    "knowledge from data. Involves visualization, modeling, and communication to address complex problems and inform \n",
    "business decisions. "
   ]
  },
  {
   "cell_type": "code",
   "execution_count": null,
   "id": "0890a096-496d-4686-8402-b65e3ec34c03",
   "metadata": {},
   "outputs": [],
   "source": [
    "Q5- What are the main differences between supervised, unsupervised, and semi-supervised learning?"
   ]
  },
  {
   "cell_type": "code",
   "execution_count": null,
   "id": "01997c9d-274c-4cc7-ad9e-f472dcdd8407",
   "metadata": {},
   "outputs": [],
   "source": [
    "supervised learning \n",
    "it use of labeled data sets to train algorithms that to classify data or predict outcomes accurately.\n",
    "Algorithm learns to map inputs to outputs based on correct labels\n",
    "Make accurate predictions on new, unseen data\n",
    "\n",
    "unsupervised learning\n",
    "it use of unlabeled sets  to train model\n",
    "Algorithm discovers patterns, relationships, or structure in the data\n",
    "Identify hidden patterns, group similar instances.\n",
    "\n",
    "semi-supervised learning\n",
    "Combines elements of supervised and unsupervised learning\n",
    "Uses both labeled and unlabeled data to train models\n",
    "use labeled data for guidance and unlabeled data for exploration\n"
   ]
  },
  {
   "cell_type": "code",
   "execution_count": null,
   "id": "233a69aa-e801-4b9e-a5cc-5eef72d5d83f",
   "metadata": {},
   "outputs": [],
   "source": [
    "Q6- What is train, test and validation split? Explain thK importancK of each term."
   ]
  },
  {
   "cell_type": "code",
   "execution_count": null,
   "id": "1228492d-22b9-4199-9556-987dbc89f4a1",
   "metadata": {},
   "outputs": [],
   "source": [
    "For training and testing purposes of our model, we should have our data broken down into three distinct dataset splits.\n",
    "\n",
    "The Training Set\n",
    "It is the set of data that is used to train and make the model learn the hidden features/patterns in the data.\n",
    "the same training data is fed to the neural network architecture repeatedly, and the model continues to learn the \n",
    "features of the data.\n",
    "The training set should have a diversified set of inputs so that the model is trained in all scenarios and can predict\n",
    "any unseen data sample that may appear in the future.\n",
    "\n",
    "The Validation Set\n",
    "The validation set is a set of data, separate from the training set, that is used to validate our model performance \n",
    "during training.\n",
    "This validation process gives information that helps us tune the model’s hyperparameters and configurations \n",
    "accordingly.The model is trained on the training set, and, simultaneously, the model evaluation is performed on the \n",
    "validation set.\n",
    "\n",
    "The Test Set\n",
    "The test set is a separate set of data used to test the model after completing the training.\n",
    "It provides an unbiased final model performance metric in terms of accuracy, precision, etc. \n",
    "\n",
    "The main idea of splitting the dataset into a validation set is to prevent our model from overfitting i.e.,\n",
    "the model becomes really good at classifying the samples in the training set but cannot generalize and make accurate\n",
    "classifications on the data it has not seen before. \n"
   ]
  },
  {
   "cell_type": "code",
   "execution_count": null,
   "id": "1d00ce7e-92e6-4b7d-8c13-815bcea2afdc",
   "metadata": {},
   "outputs": [],
   "source": [
    "Q7- How can unsupervised learning be used in anomaly detecction?"
   ]
  },
  {
   "cell_type": "code",
   "execution_count": null,
   "id": "cdd73ac5-42fd-4baa-9bf9-7a31e32d41e0",
   "metadata": {},
   "outputs": [],
   "source": [
    "Unsupervised learning can be effectively used in anomaly detection by identifying patterns and deviations in data \n",
    "without prior knowledge of what constitutes normal behavior. "
   ]
  },
  {
   "cell_type": "code",
   "execution_count": null,
   "id": "ffefae62-63b7-4a7b-9b6f-3a1358a507d4",
   "metadata": {},
   "outputs": [],
   "source": [
    "Q8- List down some commonly used supervised learning algorithms and unsupervised learning\n",
    "algorithms."
   ]
  },
  {
   "cell_type": "code",
   "execution_count": null,
   "id": "0e2e2080-8990-4486-9b8f-1c70cf01704f",
   "metadata": {},
   "outputs": [],
   "source": [
    "supervised\n",
    "\n",
    "1.Linear Regression\n",
    "2.Logistic Regression\n",
    "3.Neural Networks\n",
    "4.Decision Trees\n",
    "\n",
    "unsupervised\n",
    "1.K-Means Clustering\n",
    "2.Hierarchical Clustering\n"
   ]
  }
 ],
 "metadata": {
  "kernelspec": {
   "display_name": "Python 3 (ipykernel)",
   "language": "python",
   "name": "python3"
  },
  "language_info": {
   "codemirror_mode": {
    "name": "ipython",
    "version": 3
   },
   "file_extension": ".py",
   "mimetype": "text/x-python",
   "name": "python",
   "nbconvert_exporter": "python",
   "pygments_lexer": "ipython3",
   "version": "3.10.8"
  }
 },
 "nbformat": 4,
 "nbformat_minor": 5
}
